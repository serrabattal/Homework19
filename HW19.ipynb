{
 "cells": [
  {
   "cell_type": "code",
   "execution_count": 36,
   "id": "b97cca0c-1314-4c0e-b40c-3a6aa2fabafe",
   "metadata": {},
   "outputs": [],
   "source": [
    "# Import dependencies\n",
    "import os\n",
    "import subprocess\n",
    "import json\n",
    "from dotenv import load_dotenv\n",
    "from pprint import pprint\n",
    "from bit import PrivateKeyTestnet\n",
    "from bit.network import NetworkAPI"
   ]
  },
  {
   "cell_type": "code",
   "execution_count": 37,
   "id": "79c334e6-8536-4d67-8802-a4054d01d66b",
   "metadata": {},
   "outputs": [],
   "source": [
    "# Load and set environment variables\n",
    "load_dotenv(\"mnemonic.env\")\n",
    "mnemonic=os.getenv(\"mnemonic\")"
   ]
  },
  {
   "cell_type": "code",
   "execution_count": 38,
   "id": "70fa8dbd-a8cc-4779-954f-709ebbddd729",
   "metadata": {},
   "outputs": [],
   "source": [
    "#Import constants.py and necessary functions from bit and web3\n",
    "from constants import *"
   ]
  },
  {
   "cell_type": "code",
   "execution_count": 39,
   "id": "b8339b99-743d-45b3-9329-1c2bef58125b",
   "metadata": {},
   "outputs": [],
   "source": [
    "# Create a function called `derive_wallets`\n",
    "def derive_wallets(coin=BTC, mnemonic=mnemonic, depth=3):\n",
    "    command = f'php ./derive -g --mnemonic=\"{mnemonic}\" --cols=all --coin={coin} --numderive={depth} --format=json'\n",
    "    p = subprocess.Popen(command, stdout=subprocess.PIPE, shell=True)\n",
    "    output, err = p.communicate()\n",
    "    p_status = p.wait()\n",
    "    return json.loads(output)\n",
    "    \n",
    " "
   ]
  },
  {
   "cell_type": "code",
   "execution_count": 40,
   "id": "93b0c152-aab7-4dcf-af4d-49c98f32bb2d",
   "metadata": {},
   "outputs": [
    {
     "name": "stdout",
     "output_type": "stream",
     "text": [
      "{'btc-test': [{'address': 'mm3bDoBni6znWYRVjsJfpiN6LmKgdtgmH8',\n",
      "               'index': 0,\n",
      "               'path': \"m/44'/1'/0'/0/0\",\n",
      "               'privkey': 'cVWYKPgryPS26jfqq49fYRt2sTKoYMz9PqeJPjVk1irJuTNR1krQ',\n",
      "               'pubkey': '039ebc2ea3ad71a562731db8a83144de7a591e4ad683263218900af15c5586dcec',\n",
      "               'pubkeyhash': '3ca3eebb9e3e1a3e249f40138c189558e4931eef',\n",
      "               'xprv': 'tprv8jxnove2ZJDyt2UkbsW8fo2K2VM4C1BC8k9oyAYSKwf9sVZQMgmd2H1CQJZTQS9RqhiixkSLH46KqNVn5QbAzoXbXui172mJ5ScMZS3Uirk',\n",
      "               'xpub': 'tpubDGepxLgGhfuemVWYVXAj5CgRbWrzMLN6i3kbFgajkDTYhypAz5bDCmd4aSrpeJjmUVY6sMJTu59Q4Bd3CCEKGqqi9p6H7XLVgNa16zpEBJL'},\n",
      "              {'address': 'mmXiEwfQuLiPWKj5fRvnW38Eu3PHAz3st9',\n",
      "               'index': 1,\n",
      "               'path': \"m/44'/1'/0'/0/1\",\n",
      "               'privkey': 'cW8KFFKuULFZzWipHNaGYfkJ449hBpoAmjP7nRkMrWsjL9iV9A62',\n",
      "               'pubkey': '02d3a007c4b700f7f47e23a572c2278d4ae6426ee0fbbc913a925b2493b6a96eff',\n",
      "               'pubkeyhash': '41f57074c6f384b4daa8959c42485d707f4112b9',\n",
      "               'xprv': 'tprv8jxnove2ZJDyuHpM97WQnWRpqcHsFv9B1EZ9hBWXJzjs3KoDGMLrjbPoGitJ4s3NZvuJhcuoFKpXFKYYLrNNBoyxPRZ6JVSdb56qdBXnB84',\n",
      "               'xpub': 'tpubDGepxLgGhfuenkr92mB1Bv5wQdooRFL5aY9vyhYpjGYFsp3ytkASv61fSqW72vqKDVXr7MBnm7NxyCbEy8bExWZWJV5qD858DDENxAzCSym'},\n",
      "              {'address': 'mqvtwXjbCb7iqFWPjhQu9GsLLeCVQpCyws',\n",
      "               'index': 2,\n",
      "               'path': \"m/44'/1'/0'/0/2\",\n",
      "               'privkey': 'cUmuXYmCdf8wap41FQdS99MSVNpyBSaQZ3d5ubXDhBrkdSmiK87H',\n",
      "               'pubkey': '037b6c25aced7f81f5137cba2814660ced5d825d56ee96fbd0807937e681168724',\n",
      "               'pubkeyhash': '723870f6eb5e80cdbe4715c17c5d5680ca215562',\n",
      "               'xprv': 'tprv8jxnove2ZJDyx1bTZWG2sECcqR6cX56y1EjPU7EXwoc4ETFsp1kyXzjP4hHj5VdgXU6VLD3dUg5r7sB8kLHH38HVJLsaECA8ZVJBwkoL43M',\n",
      "               'xpub': 'tpubDGepxLgGhfueqUdFT9vdGdrjQScYgQHsaYLAkdGqN5QT4wWeSQaZiVMFEqVCYa65U3hZrqYYayKoWZ5ZcqWFmpmZPpro47UfLAx8YLYukYo'}],\n",
      " 'eth': [{'address': '0x04fC4309dfad6F31eDE9ac381Ea8B30490bE5449',\n",
      "          'index': 0,\n",
      "          'path': \"m/44'/60'/0'/0/0\",\n",
      "          'privkey': '0x7b3c44cd3e97488660363973717352b62c0bff5f709f08cb3d8b8df8ada9e626',\n",
      "          'pubkey': '024ff9e68312ab1c892bb6cd6b84c329117f59652a0d1f9e0fa689870cd0995531',\n",
      "          'pubkeyhash': '94170bf53c48062caba3f70347ce78d04bab4149',\n",
      "          'xprv': 'xprvA371sb6dgfpZ2xrLp6dc9MhPcW9Pvyd56y2n9rWiCJe764DPTie4tD7ip9sHbRBwk25542btAfXcNdAd9gT5erEiWrFgcQyr2UoF4vmSejx',\n",
      "          'xpub': 'xpub6G6NH6dXX3NrFSvov8AcWVe8AXytLSLvUBxNxEvKkeB5xrYY1FxKS1SCfQa135scPxV2VaRowgL4jWVR2Yzz4hB1r1nrCp79gZK8AxKQ2dN'},\n",
      "         {'address': '0xbdb0D2503f0575acf5Ec08471586DB88cD103aeC',\n",
      "          'index': 1,\n",
      "          'path': \"m/44'/60'/0'/0/1\",\n",
      "          'privkey': '0x8361af203e5a84202a935b652b4cba9abdea04b2b94b9c80be4bdf283db5af63',\n",
      "          'pubkey': '038c03fb67fbe4037e1636607740521fe21f482e822666d047f69a25a4dff75c99',\n",
      "          'pubkeyhash': '170500f10552161dd883caafbb4ad0a892de6f1e',\n",
      "          'xprv': 'xprvA371sb6dgfpZ5vMofNnJhL7Wfvg35vFACd9gFh2WGFKBYSVwyr3cKFdrVrVEPcLegiCK8rHVnKZZYLKy6Y26vTEbDFjqQwetnJv5vhQcCoV',\n",
      "          'xpub': 'xpub6G6NH6dXX3NrJQSGmQKK4U4FDxWXVNy1Zr5H45S7parAREq6XPMrs3xLM9XYYzdYK3awaebwSgJFLiGDpLUrS8Z6JCuh65FukMhzFsQpZ5S'},\n",
      "         {'address': '0xd93D412872A584eB10BeE15a9934041d2E0144F9',\n",
      "          'index': 2,\n",
      "          'path': \"m/44'/60'/0'/0/2\",\n",
      "          'privkey': '0x2e6e50c783d5d7985e38c68517e61718cf9b045fac5d8bd36433a003f3099895',\n",
      "          'pubkey': '0351c5b9aa26974ad847b241fb383be224ad12f8783cb6231839b0f824de260f1f',\n",
      "          'pubkeyhash': '4063899d05669eb08104dad96ffdd84a7a6a0a55',\n",
      "          'xprv': 'xprvA371sb6dgfpZ8fMoVj9LcYFjTigy452Zqi2pinGm2zd2wZUXh2wYzXwWnaM3jUhthnXpL9sWubhpmtBi6kKta8Rh3Ja5f5hhPiSnw175BLV',\n",
      "          'xpub': 'xpub6G6NH6dXX3NrM9SGbkgLygCU1kXTTXkRCvxRXAgNbLA1pMogEaFoYLFzdsb86qPPpp2b4YS79VoqfmDpJSY4YWbLP2uLK3bsj8vZf9CQ4U9'}]}\n"
     ]
    }
   ],
   "source": [
    "# Create a dictionary object called coins to store the output from `derive_wallets`.\n",
    "coins = {\n",
    "    ETH: derive_wallets(coin=ETH),\n",
    "    BTCTEST: derive_wallets(coin=BTCTEST),\n",
    "}\n",
    "\n",
    "pprint(coins)"
   ]
  },
  {
   "cell_type": "code",
   "execution_count": 41,
   "id": "6699e471-0a2b-4703-8379-0b3abcdd6639",
   "metadata": {},
   "outputs": [],
   "source": [
    "\n",
    "# Create a function called `priv_key_to_account` that converts privkey strings to account objects.\n",
    "def priv_key_to_account(coin, priv_key):\n",
    "    if coin == ETH:\n",
    "        return Account.privateKeyToAccount(priv_key)\n",
    "    if coin == BTCTEST:\n",
    "        return PrivateKeyTestnet(priv_key)"
   ]
  },
  {
   "cell_type": "code",
   "execution_count": 42,
   "id": "78f4863f-d175-48ba-a3cb-0e6da306a854",
   "metadata": {},
   "outputs": [],
   "source": [
    "# Create a function called `create_tx` that creates an unsigned transaction appropriate metadata.\n",
    "def create_tx(coin, account, receipient, amount):\n",
    "    if coin == ETH:\n",
    "        value = w3.toWei(amount, \"ether\") \n",
    "        gasEstimate = w3.eth.estimateGas({ \"to\": receipient, \"from\": account, \"amount\": value })\n",
    "        return {\n",
    "            \"to\": receipient,\n",
    "            \"from\": account,\n",
    "            \"value\": value,\n",
    "            \"gas\": gasEstimate,\n",
    "            \"gasPrice\": w3.eth.generateGasPrice(),\n",
    "            \"nonce\": w3.eth.getTransactionCount(account),\n",
    "            \"chainId\": w3.eth.chain_id\n",
    "        }\n",
    "    if coin == BTCTEST:\n",
    "        return PrivateKeyTestnet.prepare_transaction(account.address, [(receipient, amount, BTC)])"
   ]
  },
  {
   "cell_type": "code",
   "execution_count": 43,
   "id": "b145026b-72bb-44be-b288-f4b53f54b752",
   "metadata": {},
   "outputs": [],
   "source": [
    "# Create a function called `send_tx` that calls `create_tx`, signs and sends the transaction.\n",
    "def send_tx(coin, account, receipient, amount):\n",
    "    if coin == ETH:\n",
    "        raw_tx = create_tx(coin, account.address, receipient, amount)\n",
    "        signed = account.signTransaction(raw_tx)\n",
    "        return w3.eth.sendRawTransaction(signed.rawTransaction)\n",
    "    if coin == BTCTEST:\n",
    "        raw_tx = create_tx(coin, account, receipient, amount)\n",
    "        signed = account.sign_transaction(raw_tx)\n",
    "        return NetworkAPI.broadcast_tx_testnet(signed)"
   ]
  },
  {
   "cell_type": "code",
   "execution_count": 45,
   "id": "0cedfcde-6694-4b64-b150-d2b99cbc6387",
   "metadata": {},
   "outputs": [
    {
     "name": "stdout",
     "output_type": "stream",
     "text": [
      "\n"
     ]
    }
   ],
   "source": [
    "#Testing BTCTEST \n",
    "coin=BTCTEST\n",
    "account = priv_key_to_account(BTCTEST, coins[BTCTEST][0]['privkey'])\n",
    "receipient= 'mmXiEwfQuLiPWKj5fRvnW38Eu3PHAz3st9'\n",
    "amount=0.00001\n",
    "send_tx(coin, account, receipient, amount)\n"
   ]
  },
  {
   "cell_type": "code",
   "execution_count": null,
   "id": "30198e72-304f-4c9b-9945-160503753757",
   "metadata": {},
   "outputs": [],
   "source": []
  }
 ],
 "metadata": {
  "kernelspec": {
   "display_name": "Python 3",
   "language": "python",
   "name": "python3"
  },
  "language_info": {
   "codemirror_mode": {
    "name": "ipython",
    "version": 3
   },
   "file_extension": ".py",
   "mimetype": "text/x-python",
   "name": "python",
   "nbconvert_exporter": "python",
   "pygments_lexer": "ipython3",
   "version": "3.7.10"
  }
 },
 "nbformat": 4,
 "nbformat_minor": 5
}
